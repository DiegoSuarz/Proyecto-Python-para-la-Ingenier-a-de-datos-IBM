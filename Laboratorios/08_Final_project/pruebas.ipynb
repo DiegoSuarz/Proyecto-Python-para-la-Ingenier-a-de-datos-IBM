{
 "cells": [
  {
   "cell_type": "code",
   "execution_count": 1,
   "id": "2b10322c",
   "metadata": {},
   "outputs": [
    {
     "data": {
      "text/plain": [
       "{'País': ['Perú\\n', 'Chile\\n', 'Brasil\\n'],\n",
       " 'PIB': ['432.92\\n', '301.45\\n', '1800.23\\n']}"
      ]
     },
     "execution_count": 1,
     "metadata": {},
     "output_type": "execute_result"
    }
   ],
   "source": [
    "tabla = {\n",
    "    \"País\": [\"Perú\\n\", \"Chile\\n\", \"Brasil\\n\"],\n",
    "    \"PIB\": [\"432.92\\n\", \"301.45\\n\", \"1800.23\\n\"]\n",
    "}\n",
    "\n",
    "tabla"
   ]
  },
  {
   "cell_type": "code",
   "execution_count": 2,
   "id": "dc020cb9",
   "metadata": {},
   "outputs": [
    {
     "data": {
      "text/plain": [
       "{'País': ['Perú', 'Chile', 'Brasil'], 'PIB': ['432.92', '301.45', '1800.23']}"
      ]
     },
     "execution_count": 2,
     "metadata": {},
     "output_type": "execute_result"
    }
   ],
   "source": [
    "tabla_limpia = {clave: [valor.strip() for valor in lista] for clave, lista in tabla.items()}\n",
    "tabla_limpia"
   ]
  },
  {
   "cell_type": "code",
   "execution_count": null,
   "id": "be456fa9",
   "metadata": {},
   "outputs": [],
   "source": []
  }
 ],
 "metadata": {
  "kernelspec": {
   "display_name": "Python 3",
   "language": "python",
   "name": "python3"
  },
  "language_info": {
   "codemirror_mode": {
    "name": "ipython",
    "version": 3
   },
   "file_extension": ".py",
   "mimetype": "text/x-python",
   "name": "python",
   "nbconvert_exporter": "python",
   "pygments_lexer": "ipython3",
   "version": "3.13.1"
  }
 },
 "nbformat": 4,
 "nbformat_minor": 5
}
