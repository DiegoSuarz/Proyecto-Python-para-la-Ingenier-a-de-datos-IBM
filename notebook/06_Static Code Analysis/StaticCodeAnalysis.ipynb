{
 "cells": [
  {
   "cell_type": "markdown",
   "id": "c76b3dbd",
   "metadata": {},
   "source": [
    "# Laboratorio Práctico: Análisis Estático de Código\n",
    "\n",
    "## Objetivos\n",
    "Después de completar este laboratorio, podrás:\n",
    "\n",
    "- Instalar el paquete pylint\n",
    "- Ejecutar Análisis Estático de Código en un programa de python\n",
    "- Verificar la puntuación de cumplimiento de un programa de python.\n",
    "- Corregir errores comunes y mejorar la puntuación de cumplimiento."
   ]
  },
  {
   "cell_type": "markdown",
   "id": "b30546d1",
   "metadata": {},
   "source": [
    "En la terminal, ejecuta el siguiente comando para instalar pylint.\n",
    "```terminal\n",
    "    pip3 install pylint==2.11.1\n",
    "```"
   ]
  },
  {
   "cell_type": "code",
   "execution_count": null,
   "id": "02c60ddd",
   "metadata": {},
   "outputs": [],
   "source": [
    "#pip install pylint"
   ]
  },
  {
   "cell_type": "markdown",
   "id": "d88ddb33",
   "metadata": {},
   "source": [
    "## Crear un archivo python de muestra para análisis de código estático\n",
    "\n",
    "Crea un nuevo archivo llamado sample1.py\n",
    "\n",
    "Copia y pega el siguiente código en sample1.py"
   ]
  },
  {
   "cell_type": "code",
   "execution_count": 2,
   "id": "22191052",
   "metadata": {},
   "outputs": [
    {
     "name": "stdout",
     "output_type": "stream",
     "text": [
      "The sum of 4 and 5 is 9\n"
     ]
    }
   ],
   "source": [
    "# Define a function named 'add' that takes two arguments, 'number1' and 'number2'.\n",
    "def add(number1, number2):\n",
    "    # The function returns the sum of 'number1' and 'number2'.\n",
    "    return number1 + number2\n",
    "# Initialize the variable 'num1' with the value 4.\n",
    "num1 = 4\n",
    "# Initialize the variable 'num2' with the value 5.\n",
    "num2 = 5\n",
    "# Call the 'add' function with 'num1' and 'num2' as arguments and store the result in 'total'.\n",
    "total = add(num1, num2)\n",
    "# Print the result of adding 'num1' and 'num2' using the 'format' method to insert the values into the string.\n",
    "print(\"The sum of {} and {} is {}\".format(num1, num2, total))"
   ]
  },
  {
   "cell_type": "markdown",
   "id": "16961a42",
   "metadata": {},
   "source": [
    "# Ejecutar pylint\n",
    "Abre una terminal\n",
    "Ejecuta el siguiente comando\n",
    "```terminal\n",
    " pylint sample1.py\n",
    "```\n",
    "- Pylint evisa cada línea de código y le brinda una lista todas las líneas no conformes\n",
    "- Pylint le brinda un puntaje de cumplimiento (10 es máximo)"
   ]
  },
  {
   "cell_type": "markdown",
   "id": "a971efd9",
   "metadata": {},
   "source": [
    "## Corrija los errores identificados por Pylint.\n",
    "- Según el informe dado por los cambios de Pylint, se hicieron a este código para abordar los siguientes problemas.\n",
    "    - Exactamente un espacio requerido después de la coma\n",
    "    - Exactamente un espacio requerido alrededor de la asignación\n",
    "- Cree un nuevo archivo llamado Sample2.py\n",
    "- Copie y pegue el siguiente código en sample2.py"
   ]
  },
  {
   "cell_type": "code",
   "execution_count": 3,
   "id": "286dd62e",
   "metadata": {},
   "outputs": [
    {
     "name": "stdout",
     "output_type": "stream",
     "text": [
      "La suma de 4 y 5 es 9\n"
     ]
    }
   ],
   "source": [
    "# Define una función llamada 'add' que toma dos argumentos, 'number1' y 'number2'.\n",
    "# El propósito de esta función es sumar los dos números y devolver el resultado.\n",
    "def add(number1, number2):\n",
    "    # Devuelve la suma de 'number1' y 'number2'.\n",
    "    # Esta línea calcula la adición de los dos números de entrada y devuelve el resultado.\n",
    "    return number1 + number2\n",
    "\n",
    "# Inicializa la variable constante 'NUM1' con el valor 4.\n",
    "# Las constantes suelen escribirse en letras mayúsculas para indicar que no deben cambiarse.\n",
    "NUM1 = 4\n",
    "\n",
    "# Inicializa la variable 'num2' con el valor 5.\n",
    "# Esta variable se utilizará como la segunda entrada para la función 'add'.\n",
    "num2 = 5\n",
    "\n",
    "# Llama a la función 'add' con 'NUM1' y 'num2' como argumentos.\n",
    "# El resultado de esta operación de adición se almacena en la variable 'total'.\n",
    "total = add(NUM1, num2)\n",
    "\n",
    "# Imprime una cadena formateada que muestra la suma de 'NUM1' y 'num2'.\n",
    "# El método 'format' se utiliza para insertar los valores de 'NUM1', 'num2' y 'total' en la cadena.\n",
    "print(\"La suma de {} y {} es {}\".format(NUM1, num2, total))"
   ]
  },
  {
   "cell_type": "markdown",
   "id": "d01eb8f1",
   "metadata": {},
   "source": [
    "## Run pylint\n",
    "Abre el terminal\n",
    "Corre el siguiente comando:\n",
    "```terminal\n",
    "    pylint sample2.py\n",
    "```\n",
    "Esto le dará el puntaje de cumplimiento.\n",
    "Esta vez deberías ver mejorar la puntuación.\n"
   ]
  },
  {
   "cell_type": "markdown",
   "id": "52f57a2b",
   "metadata": {},
   "source": [
    "## Tu tarea\n",
    "Mejore la puntuación en Sample2.py a un 10 perfecto corrigiendo todos los problemas señalados por Pylint. Si no puedo entender cómo resolver algunos problemas, es útil buscar en Google el mensaje de pylint."
   ]
  }
 ],
 "metadata": {
  "kernelspec": {
   "display_name": "Python 3",
   "language": "python",
   "name": "python3"
  },
  "language_info": {
   "codemirror_mode": {
    "name": "ipython",
    "version": 3
   },
   "file_extension": ".py",
   "mimetype": "text/x-python",
   "name": "python",
   "nbconvert_exporter": "python",
   "pygments_lexer": "ipython3",
   "version": "3.13.1"
  }
 },
 "nbformat": 4,
 "nbformat_minor": 5
}
